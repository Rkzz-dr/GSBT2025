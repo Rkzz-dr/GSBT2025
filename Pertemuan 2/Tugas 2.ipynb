{
  "nbformat": 4,
  "nbformat_minor": 0,
  "metadata": {
    "colab": {
      "provenance": []
    },
    "kernelspec": {
      "name": "python3",
      "display_name": "Python 3"
    },
    "language_info": {
      "name": "python"
    }
  },
  "cells": [
    {
      "cell_type": "markdown",
      "source": [
        "# Overview Materi\n",
        "\n",
        "Source: https://www.youtube.com/watch?v=LDRbO9a6XPU"
      ],
      "metadata": {
        "id": "fQjXfMWTFXhh"
      }
    },
    {
      "cell_type": "markdown",
      "source": [
        "Jelaskan secara singkat apa itu decision tree menurut pemahamanmu!\n",
        "\n",
        "Decision tree merupakan model machine learning yang digunakan untuk membuat prediksi dengan memisahkan data menjadi bercabang-cabang dengan pertanyaan-pertanyaan terbaik\n"
      ],
      "metadata": {
        "id": "UH5otNgmFY4r"
      }
    },
    {
      "cell_type": "markdown",
      "source": [
        "# Import Data & Libraries"
      ],
      "metadata": {
        "id": "yR_dxhoaIGZY"
      }
    },
    {
      "cell_type": "code",
      "execution_count": 1,
      "metadata": {
        "id": "E3fobMaeFOAe"
      },
      "outputs": [],
      "source": [
        "from __future__ import print_function\n",
        "\n",
        "# label kolom\n",
        "header = [\"color\", \"diameter\", \"label\"]\n",
        "\n",
        "# data training\n",
        "training_data = [\n",
        "    ['Green', 3, 'Apple'],\n",
        "    ['Yellow', 3, 'Apple'],\n",
        "    ['Red', 1, 'Grape'],\n",
        "    ['Red', 1, 'Grape'],\n",
        "    ['Yellow', 3, 'Lemon'],]\n",
        "\n",
        "# data testing\n",
        "testing_data = [\n",
        "    ['Green', 3, 'Apple'],\n",
        "    ['Yellow', 4, 'Apple'],\n",
        "    ['Red', 2, 'Grape'],\n",
        "    ['Red', 1, 'Grape'],\n",
        "    ['Yellow', 3, 'Lemon'],]"
      ]
    },
    {
      "cell_type": "markdown",
      "source": [
        "# Fungsi Dasar"
      ],
      "metadata": {
        "id": "YMsTb3E1MWY6"
      }
    },
    {
      "cell_type": "code",
      "source": [
        "# fungsi mencari apa saja unique value dari suatu kolom\n",
        "def unique_vals(rows, col):\n",
        "    return set([row[col] for row in rows])\n",
        "\n",
        "# contoh penggunaan 1\n",
        "unique_vals(training_data, 0)"
      ],
      "metadata": {
        "id": "Bgzx5gwhSTWp",
        "colab": {
          "base_uri": "https://localhost:8080/"
        },
        "outputId": "1c9202bd-5cb2-4273-d031-6130ab8b96c4"
      },
      "execution_count": 9,
      "outputs": [
        {
          "output_type": "execute_result",
          "data": {
            "text/plain": [
              "{'Green', 'Red', 'Yellow'}"
            ]
          },
          "metadata": {},
          "execution_count": 9
        }
      ]
    },
    {
      "cell_type": "code",
      "source": [
        "# contoh penggunaan 2\n",
        "unique_vals(training_data, 1)"
      ],
      "metadata": {
        "colab": {
          "base_uri": "https://localhost:8080/"
        },
        "id": "9Htsm3YpCBj7",
        "outputId": "9a36d969-9514-4a10-b4cf-f1a61986c727"
      },
      "execution_count": 28,
      "outputs": [
        {
          "output_type": "execute_result",
          "data": {
            "text/plain": [
              "{1, 3}"
            ]
          },
          "metadata": {},
          "execution_count": 28
        }
      ]
    },
    {
      "cell_type": "code",
      "source": [
        "# fungsi Menghitung jumlah unique value dari suatu kolom\n",
        "def class_counts(rows):\n",
        "    counts = {}\n",
        "    for row in rows:\n",
        "        label = row[-1]\n",
        "        if label not in counts:\n",
        "            counts[label] = 0\n",
        "        counts[label] += 1\n",
        "    return counts\n",
        "\n",
        "# contoh penggunaan\n",
        "class_counts(training_data)"
      ],
      "metadata": {
        "id": "hhF6uUhrJesN",
        "colab": {
          "base_uri": "https://localhost:8080/"
        },
        "outputId": "9431fb85-e899-44c1-adeb-bdf9e150763b"
      },
      "execution_count": 14,
      "outputs": [
        {
          "output_type": "execute_result",
          "data": {
            "text/plain": [
              "{'Apple': 2, 'Grape': 2, 'Lemon': 1}"
            ]
          },
          "metadata": {},
          "execution_count": 14
        }
      ]
    },
    {
      "cell_type": "code",
      "source": [
        "# fungsi pengecekan suatu value numerik atau bukan\n",
        "def is_numeric(value):\n",
        "    return isinstance(value, int) or isinstance(value, float)\n",
        "\n",
        "# contoh penggunaan 1\n",
        "is_numeric(1)"
      ],
      "metadata": {
        "id": "U9mxqVcnI9vw",
        "colab": {
          "base_uri": "https://localhost:8080/"
        },
        "outputId": "ac666029-c881-419c-b44a-0816be2a6ccb"
      },
      "execution_count": 16,
      "outputs": [
        {
          "output_type": "execute_result",
          "data": {
            "text/plain": [
              "True"
            ]
          },
          "metadata": {},
          "execution_count": 16
        }
      ]
    },
    {
      "cell_type": "code",
      "source": [
        "# contoh penggunaan 2\n",
        "is_numeric('Green')"
      ],
      "metadata": {
        "colab": {
          "base_uri": "https://localhost:8080/"
        },
        "id": "GbsOa8uiDfeS",
        "outputId": "8af5ae2b-d1c4-4563-ed10-584292b1e3a9"
      },
      "execution_count": 27,
      "outputs": [
        {
          "output_type": "execute_result",
          "data": {
            "text/plain": [
              "False"
            ]
          },
          "metadata": {},
          "execution_count": 27
        }
      ]
    },
    {
      "cell_type": "code",
      "source": [
        "# kelas untuk merepresentasikan pertanyaan pada decision tree\n",
        "class Question:\n",
        "\n",
        "    # inisialisasi kolom dan nilai pertanyaan\n",
        "    def __init__(self, column, value):\n",
        "        self.column = column\n",
        "        self.value = value\n",
        "\n",
        "    # mengecek apakah contoh data sesuai dengan pertanyaan\n",
        "    def match(self, example):\n",
        "        val = example[self.column]\n",
        "        if is_numeric(val):\n",
        "            return val >= self.value\n",
        "        else:\n",
        "            return val == self.value\n",
        "\n",
        "    # menampilkan pertanyaan dalam format string yang mudah dibaca\n",
        "    def __repr__(self):\n",
        "        condition = \"==\"\n",
        "        if is_numeric(self.value):\n",
        "            condition = \">=\"\n",
        "        return \"Is %s %s %s?\" % (\n",
        "            header[self.column], condition, str(self.value))\n",
        "\n",
        "# contoh penggunaan 1\n",
        "Question(0, 'Yellow')"
      ],
      "metadata": {
        "id": "MekftmdeLPRo",
        "colab": {
          "base_uri": "https://localhost:8080/"
        },
        "outputId": "3311fa4e-5877-4133-e48d-53c1f0686ea2"
      },
      "execution_count": 29,
      "outputs": [
        {
          "output_type": "execute_result",
          "data": {
            "text/plain": [
              "Is color == Yellow?"
            ]
          },
          "metadata": {},
          "execution_count": 29
        }
      ]
    },
    {
      "cell_type": "code",
      "source": [
        "# contoh penggunaan 2\n",
        "Question(1, 3)"
      ],
      "metadata": {
        "colab": {
          "base_uri": "https://localhost:8080/"
        },
        "id": "SSytPjavE35G",
        "outputId": "26ceebdb-406f-4dd9-9a16-f84967dd809d"
      },
      "execution_count": 25,
      "outputs": [
        {
          "output_type": "execute_result",
          "data": {
            "text/plain": [
              "Is diameter >= 3?"
            ]
          },
          "metadata": {},
          "execution_count": 25
        }
      ]
    },
    {
      "cell_type": "code",
      "source": [
        "# membagi dataset menjadi dua berdasarkan pertanyaan\n",
        "def partition(rows, question):\n",
        "    true_rows, false_rows = [], []\n",
        "    for row in rows:\n",
        "        if question.match(row):\n",
        "            true_rows.append(row)\n",
        "        else:\n",
        "            false_rows.append(row)\n",
        "    return true_rows, false_rows\n",
        "\n",
        "# contoh penggunaan\n",
        "true_rows, false_rows = partition(training_data, Question(0, 'Red'))\n",
        "true_rows"
      ],
      "metadata": {
        "id": "Y3lTf9NbL8Ik",
        "colab": {
          "base_uri": "https://localhost:8080/"
        },
        "outputId": "91022dc7-d730-4d7e-a06c-4ef97b5dc45a"
      },
      "execution_count": 35,
      "outputs": [
        {
          "output_type": "execute_result",
          "data": {
            "text/plain": [
              "[['Red', 1, 'Grape'], ['Red', 1, 'Grape']]"
            ]
          },
          "metadata": {},
          "execution_count": 35
        }
      ]
    },
    {
      "cell_type": "code",
      "source": [
        "false_rows"
      ],
      "metadata": {
        "colab": {
          "base_uri": "https://localhost:8080/"
        },
        "id": "ebSZbx3VF5sU",
        "outputId": "4861e0d1-b0d3-46e0-a649-6f5dd1476972"
      },
      "execution_count": 36,
      "outputs": [
        {
          "output_type": "execute_result",
          "data": {
            "text/plain": [
              "[['Green', 3, 'Apple'], ['Yellow', 3, 'Apple'], ['Yellow', 3, 'Lemon']]"
            ]
          },
          "metadata": {},
          "execution_count": 36
        }
      ]
    },
    {
      "cell_type": "markdown",
      "source": [
        "**apa itu gini impurity?**\n",
        "<br> gini impurity berfungsi mengukur tingkat ketidakmurnian atau ketidakteraturan pada sebuah simpul (node) dalam pohon"
      ],
      "metadata": {
        "id": "X4D5BkyeMdSG"
      }
    },
    {
      "cell_type": "code",
      "source": [
        "# menghitung nilai Gini Impurity untuk sebuah dataset\n",
        "def gini(rows):\n",
        "     counts = class_counts(rows)\n",
        "     impurity = 1\n",
        "     for lbl in counts:\n",
        "        prob_of_lbl = counts[lbl] / float(len(rows))\n",
        "        impurity -= prob_of_lbl**2\n",
        "     return impurity\n",
        "\n",
        "# contoh penggunaan\n",
        "no_mixing = [\n",
        "             ['Apple'],\n",
        "             ['Apple'],\n",
        "             ['Apple']]\n",
        "gini(no_mixing)"
      ],
      "metadata": {
        "id": "DmAnmSzFMKtA",
        "colab": {
          "base_uri": "https://localhost:8080/"
        },
        "outputId": "cbec38df-57e7-42a2-9159-ad1a135e7261"
      },
      "execution_count": 44,
      "outputs": [
        {
          "output_type": "execute_result",
          "data": {
            "text/plain": [
              "0.0"
            ]
          },
          "metadata": {},
          "execution_count": 44
        }
      ]
    },
    {
      "cell_type": "code",
      "source": [
        "mixed = [\n",
        "         ['Apple'],\n",
        "         ['Grape'],\n",
        "         ['Lemon']]\n",
        "gini(mixed)"
      ],
      "metadata": {
        "colab": {
          "base_uri": "https://localhost:8080/"
        },
        "id": "Kca6unXUHL5t",
        "outputId": "03168b22-0dbb-4bd5-c5f7-6bfe7946e563"
      },
      "execution_count": 45,
      "outputs": [
        {
          "output_type": "execute_result",
          "data": {
            "text/plain": [
              "0.6666666666666665"
            ]
          },
          "metadata": {},
          "execution_count": 45
        }
      ]
    },
    {
      "cell_type": "markdown",
      "source": [
        "**apa itu information gain?**\n",
        "<br> information gain berfungsi mengukur seberapa efektif sebuah fitur dalam memisahkan data berdasarkan kelas-kelasnya"
      ],
      "metadata": {
        "id": "SyxWlLNOM_2U"
      }
    },
    {
      "cell_type": "code",
      "source": [
        "# menghitung nilai Information Gain dari pemisahan dataset\n",
        "def info_gain(left, right, current_uncertainty):\n",
        "    p = float(len(left)) / (len(left) + len(right))\n",
        "    return current_uncertainty - p * gini(left) - (1 - p) * gini(right)\n",
        "\n",
        "# contoh penggunaan\n",
        "current_uncertainty = gini(training_data)\n",
        "current_uncertainty"
      ],
      "metadata": {
        "id": "rObVucEEMiIZ",
        "colab": {
          "base_uri": "https://localhost:8080/"
        },
        "outputId": "d0c3ab41-26cd-4ba3-c505-1c1c81a31b94"
      },
      "execution_count": 46,
      "outputs": [
        {
          "output_type": "execute_result",
          "data": {
            "text/plain": [
              "0.6399999999999999"
            ]
          },
          "metadata": {},
          "execution_count": 46
        }
      ]
    },
    {
      "cell_type": "code",
      "source": [
        "# mencari pertanyaan terbaik untuk membagi dataset berdasarkan information gain tertinggi\n",
        "def find_best_split(rows):\n",
        "    best_gain = 0\n",
        "    best_question = None\n",
        "    current_uncertainty = gini(rows)\n",
        "    n_features = len(rows[0]) - 1\n",
        "\n",
        "    for col in range(n_features):\n",
        "\n",
        "        values = set([row[col] for row in rows])\n",
        "\n",
        "        for val in values:\n",
        "\n",
        "            question = Question(col, val)\n",
        "\n",
        "            # splitting the dataset\n",
        "            true_rows, false_rows = partition(rows, question)\n",
        "\n",
        "            # Skip this split if it doesn't divide the dataset\n",
        "            if len(true_rows) == 0 or len(false_rows) == 0:\n",
        "                continue\n",
        "\n",
        "            gain = info_gain(true_rows, false_rows, current_uncertainty)\n",
        "\n",
        "            if gain >= best_gain:\n",
        "                best_gain, best_question = gain, question\n",
        "\n",
        "    return best_gain, best_question\n",
        "\n",
        "# contoh penggunaan\n",
        "best_gain, best_question = find_best_split(training_data)\n",
        "best_question"
      ],
      "metadata": {
        "id": "OK8Lc7koOIyS",
        "colab": {
          "base_uri": "https://localhost:8080/"
        },
        "outputId": "21e9a3a4-758c-4b90-ff74-a255a157c1e2"
      },
      "execution_count": 47,
      "outputs": [
        {
          "output_type": "execute_result",
          "data": {
            "text/plain": [
              "Is diameter >= 3?"
            ]
          },
          "metadata": {},
          "execution_count": 47
        }
      ]
    },
    {
      "cell_type": "markdown",
      "source": [
        "# Fungsi Decision Tree"
      ],
      "metadata": {
        "id": "t225xaaIPGow"
      }
    },
    {
      "cell_type": "code",
      "source": [
        "# merepresentasikan node daun (leaf) pada decision tree yang berisi hasil prediksi\n",
        "class Leaf:\n",
        "\n",
        "    # inisialisasi leaf dengan menghitung jumlah kemunculan tiap kelas\n",
        "    def __init__(self, rows):\n",
        "        self.predictions = class_counts(rows)"
      ],
      "metadata": {
        "id": "3KXNVwMPOZ5c"
      },
      "execution_count": 48,
      "outputs": []
    },
    {
      "cell_type": "code",
      "source": [
        "# merepresentasikan node keputusan (decision node) yang berisi pertanyaan dan cabang\n",
        "class Decision_Node:\n",
        "\n",
        "    # inisialisasi node dengan pertanyaan, cabang benar, dan cabang salah\n",
        "    def __init__(self,\n",
        "                 question,\n",
        "                 true_branch,\n",
        "                 false_branch):\n",
        "        self.question = question\n",
        "        self.true_branch = true_branch\n",
        "        self.false_branch = false_branch\n"
      ],
      "metadata": {
        "id": "gktUwUY-P-eN"
      },
      "execution_count": 49,
      "outputs": []
    },
    {
      "cell_type": "code",
      "source": [
        "# membangun decision tree secara rekursif\n",
        "def build_tree(rows):\n",
        "    gain, question = find_best_split(rows)\n",
        "\n",
        "    if gain == 0:\n",
        "        return Leaf(rows)\n",
        "\n",
        "    true_rows, false_rows = partition(rows, question)\n",
        "    true_branch = build_tree(true_rows)\n",
        "    false_branch = build_tree(false_rows)\n",
        "\n",
        "    return Decision_Node(question, true_branch, false_branch)"
      ],
      "metadata": {
        "id": "_cWHvsMKPPsk"
      },
      "execution_count": 50,
      "outputs": []
    },
    {
      "cell_type": "code",
      "source": [
        "# mencetak struktur decision tree secara rekursif dalam format teks\n",
        "def print_tree(node, spacing=\"\"):\n",
        "\n",
        "    # base case: jika sudah mencapai leaf\n",
        "    if isinstance(node, Leaf):\n",
        "        print (spacing + \"Predict\", node.predictions)\n",
        "        return\n",
        "\n",
        "    # mencetak pertanyaan pada node saat ini\n",
        "    print (spacing + str(node.question))\n",
        "\n",
        "    # mencetak cabang true secara rekursif\n",
        "    print (spacing + '--> True:')\n",
        "    print_tree(node.true_branch, spacing + \"  \")\n",
        "\n",
        "    # mencetak cabang false secara rekursif\n",
        "    print (spacing + '--> False:')\n",
        "    print_tree(node.false_branch, spacing + \"  \")\n",
        "\n",
        "# contoh penggunaan\n",
        "my_tree = build_tree(training_data)\n",
        "print_tree(my_tree)"
      ],
      "metadata": {
        "id": "tx_AbjiYPS05",
        "colab": {
          "base_uri": "https://localhost:8080/"
        },
        "outputId": "5a9f22b5-3afb-4fce-a9ad-6a6be59592b4"
      },
      "execution_count": 51,
      "outputs": [
        {
          "output_type": "stream",
          "name": "stdout",
          "text": [
            "Is diameter >= 3?\n",
            "--> True:\n",
            "  Is color == Yellow?\n",
            "  --> True:\n",
            "    Predict {'Apple': 1, 'Lemon': 1}\n",
            "  --> False:\n",
            "    Predict {'Apple': 1}\n",
            "--> False:\n",
            "  Predict {'Grape': 2}\n"
          ]
        }
      ]
    },
    {
      "cell_type": "code",
      "source": [
        "# mengklasifikasikan satu baris data menggunakan decision tree\n",
        "def classify(row, node):\n",
        "\n",
        "    # base case: jika sudah mencapai leaf\n",
        "    if isinstance(node, Leaf):\n",
        "        return node.predictions\n",
        "\n",
        "    # menentukan apakah mengikuti cabang true atau cabang false\n",
        "    # dengan membandingkan nilai fitur pada baris dengan pertanyaan di node\n",
        "    if node.question.match(row):\n",
        "        return classify(row, node.true_branch)\n",
        "    else:\n",
        "        return classify(row, node.false_branch)\n",
        "\n",
        "# contoh penggunaan\n",
        "classify(training_data[0], my_tree)"
      ],
      "metadata": {
        "id": "tchvhQc-PVC2",
        "colab": {
          "base_uri": "https://localhost:8080/"
        },
        "outputId": "8ed5a6cf-c928-4570-b810-0719dbf20981"
      },
      "execution_count": 52,
      "outputs": [
        {
          "output_type": "execute_result",
          "data": {
            "text/plain": [
              "{'Apple': 1}"
            ]
          },
          "metadata": {},
          "execution_count": 52
        }
      ]
    },
    {
      "cell_type": "code",
      "source": [
        "# menampilkan prediksi pada leaf dalam format persentase\n",
        "def print_leaf(counts):\n",
        "    total = sum(counts.values()) * 1.0\n",
        "    probs = {}\n",
        "    for lbl in counts.keys():\n",
        "        probs[lbl] = str(int(counts[lbl] / total * 100)) + \"%\"\n",
        "    return probs\n",
        "\n",
        "# contoh penggunaan 1\n",
        "print_leaf(classify(training_data[0], my_tree))"
      ],
      "metadata": {
        "id": "w8r0lzWpQM7c",
        "colab": {
          "base_uri": "https://localhost:8080/"
        },
        "outputId": "8d3e2558-5d00-40b0-e374-75c9fed18ce8"
      },
      "execution_count": 54,
      "outputs": [
        {
          "output_type": "execute_result",
          "data": {
            "text/plain": [
              "{'Apple': '100%'}"
            ]
          },
          "metadata": {},
          "execution_count": 54
        }
      ]
    },
    {
      "cell_type": "code",
      "source": [
        "# contoh penggunaan 2\n",
        "print_leaf(classify(training_data[1], my_tree))"
      ],
      "metadata": {
        "colab": {
          "base_uri": "https://localhost:8080/"
        },
        "id": "DLux6Y19LCbW",
        "outputId": "bfa6c9ad-3a53-4c7f-8041-18c91d423341"
      },
      "execution_count": 55,
      "outputs": [
        {
          "output_type": "execute_result",
          "data": {
            "text/plain": [
              "{'Apple': '50%', 'Lemon': '50%'}"
            ]
          },
          "metadata": {},
          "execution_count": 55
        }
      ]
    },
    {
      "cell_type": "code",
      "source": [
        "# contoh penggunaan 3\n",
        "print_leaf(classify(training_data[2], my_tree))"
      ],
      "metadata": {
        "colab": {
          "base_uri": "https://localhost:8080/"
        },
        "id": "RrTYgYZMLHug",
        "outputId": "f1eb181c-6944-4a55-df07-89d9c83547de"
      },
      "execution_count": 57,
      "outputs": [
        {
          "output_type": "execute_result",
          "data": {
            "text/plain": [
              "{'Grape': '100%'}"
            ]
          },
          "metadata": {},
          "execution_count": 57
        }
      ]
    },
    {
      "cell_type": "markdown",
      "source": [
        "# Predict Using Decision Tree"
      ],
      "metadata": {
        "id": "JLT1_TuuQWlI"
      }
    },
    {
      "cell_type": "code",
      "source": [
        "# menguji decision tree dengan data uji dan membandingkan hasil prediksi dengan label asli\n",
        "for row in testing_data:\n",
        "    print (\"Actual: %s. Predicted: %s\" %\n",
        "           (row[-1], print_leaf(classify(row, my_tree))))"
      ],
      "metadata": {
        "id": "DhG5NCwHQSlF",
        "colab": {
          "base_uri": "https://localhost:8080/"
        },
        "outputId": "266ef2eb-901d-4c20-c9af-13a37105b1d7"
      },
      "execution_count": 58,
      "outputs": [
        {
          "output_type": "stream",
          "name": "stdout",
          "text": [
            "Actual: Apple. Predicted: {'Apple': '100%'}\n",
            "Actual: Apple. Predicted: {'Apple': '50%', 'Lemon': '50%'}\n",
            "Actual: Grape. Predicted: {'Grape': '100%'}\n",
            "Actual: Grape. Predicted: {'Grape': '100%'}\n",
            "Actual: Lemon. Predicted: {'Apple': '50%', 'Lemon': '50%'}\n"
          ]
        }
      ]
    }
  ]
}